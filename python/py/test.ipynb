{
 "cells": [
  {
   "cell_type": "code",
   "execution_count": 3,
   "metadata": {},
   "outputs": [],
   "source": [
    "import pandas as pd\n",
    "import numpy as np\n",
    "\n",
    "data = pd.read_csv('titanic3.csv')"
   ]
  },
  {
   "cell_type": "code",
   "execution_count": 4,
   "metadata": {},
   "outputs": [
    {
     "name": "stdout",
     "output_type": "stream",
     "text": [
      "[[1 1 'Allen, Miss. Elisabeth Walton' ... '2' nan 'St Louis, MO']\n",
      " [1 1 'Allison, Master. Hudson Trevor' ... '11' nan\n",
      "  'Montreal, PQ / Chesterville, ON']\n",
      " [1 0 'Allison, Miss. Helen Loraine' ... nan nan\n",
      "  'Montreal, PQ / Chesterville, ON']\n",
      " ...\n",
      " [3 0 'Zakarian, Mr. Mapriededer' ... nan 304.0 nan]\n",
      " [3 0 'Zakarian, Mr. Ortin' ... nan nan nan]\n",
      " [3 0 'Zimmerman, Mr. Leo' ... nan nan nan]]\n"
     ]
    }
   ],
   "source": [
    "import numpy as np\n",
    "grades = np.array(data)\n",
    "print(grades)\n"
   ]
  },
  {
   "cell_type": "code",
   "execution_count": 9,
   "metadata": {},
   "outputs": [
    {
     "name": "stdout",
     "output_type": "stream",
     "text": [
      "[50, 50, 47, 97, 49, 3, 53, 42, 26, 74, 82, 62, 37, 15, 70, 27, 36, 35, 48, 52, 63, 64]\n",
      "<class 'list'> x 2: [50, 50, 47, 97, 49, 3, 53, 42, 26, 74, 82, 62, 37, 15, 70, 27, 36, 35, 48, 52, 63, 64, 50, 50, 47, 97, 49, 3, 53, 42, 26, 74, 82, 62, 37, 15, 70, 27, 36, 35, 48, 52, 63, 64]\n",
      "---\n",
      "<class 'numpy.ndarray'> x 2: [[2 2 'Allen, Miss. Elisabeth WaltonAllen, Miss. Elisabeth Walton' ...\n",
      "  '22' nan 'St Louis, MOSt Louis, MO']\n",
      " [2 2 'Allison, Master. Hudson TrevorAllison, Master. Hudson Trevor' ...\n",
      "  '1111' nan\n",
      "  'Montreal, PQ / Chesterville, ONMontreal, PQ / Chesterville, ON']\n",
      " [2 0 'Allison, Miss. Helen LoraineAllison, Miss. Helen Loraine' ... nan\n",
      "  nan 'Montreal, PQ / Chesterville, ONMontreal, PQ / Chesterville, ON']\n",
      " ...\n",
      " [6 0 'Zakarian, Mr. MapriedederZakarian, Mr. Mapriededer' ... nan 608.0\n",
      "  nan]\n",
      " [6 0 'Zakarian, Mr. OrtinZakarian, Mr. Ortin' ... nan nan nan]\n",
      " [6 0 'Zimmerman, Mr. LeoZimmerman, Mr. Leo' ... nan nan nan]]\n"
     ]
    },
    {
     "data": {
      "text/plain": [
       "array([1, 1, 'Allen, Miss. Elisabeth Walton', 'female', 29.0, 0, 0,\n",
       "       '24160', 211.3375, 'B5', 'S', '2', nan, 'St Louis, MO'],\n",
       "      dtype=object)"
      ]
     },
     "execution_count": 9,
     "metadata": {},
     "output_type": "execute_result"
    }
   ],
   "source": [
    "data = [50,50,47,97,49,3,53,42,26,74,82,62,37,15,70,27,36,35,48,52,63,64]\n",
    "print(data)\n",
    "print (type(data),'x 2:', data * 2)\n",
    "print('---')\n",
    "print (type(grades),'x 2:', grades * 2)\n",
    "\n",
    "grades.shape\n",
    "grades[0]\n",
    "\n",
    "\n",
    "\n",
    "\n",
    "\n"
   ]
  }
 ],
 "metadata": {
  "kernelspec": {
   "display_name": "Python 3.9.13 64-bit",
   "language": "python",
   "name": "python3"
  },
  "language_info": {
   "codemirror_mode": {
    "name": "ipython",
    "version": 3
   },
   "file_extension": ".py",
   "mimetype": "text/x-python",
   "name": "python",
   "nbconvert_exporter": "python",
   "pygments_lexer": "ipython3",
   "version": "3.9.13"
  },
  "orig_nbformat": 4,
  "vscode": {
   "interpreter": {
    "hash": "8e284ee3255a07ad8bf76694974743c4c81cb57e7c969474d752d949b11d721e"
   }
  }
 },
 "nbformat": 4,
 "nbformat_minor": 2
}
